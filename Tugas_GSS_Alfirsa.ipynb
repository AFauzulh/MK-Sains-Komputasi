{
  "nbformat": 4,
  "nbformat_minor": 0,
  "metadata": {
    "colab": {
      "provenance": [],
      "authorship_tag": "ABX9TyM+T+LsCGDhbUW5x/7FlnrR",
      "include_colab_link": true
    },
    "kernelspec": {
      "name": "python3",
      "display_name": "Python 3"
    },
    "language_info": {
      "name": "python"
    }
  },
  "cells": [
    {
      "cell_type": "markdown",
      "metadata": {
        "id": "view-in-github",
        "colab_type": "text"
      },
      "source": [
        "<a href=\"https://colab.research.google.com/github/AFauzulh/MK-Sains-Komputasi/blob/main/Tugas_GSS_Alfirsa.ipynb\" target=\"_parent\"><img src=\"https://colab.research.google.com/assets/colab-badge.svg\" alt=\"Open In Colab\"/></a>"
      ]
    },
    {
      "cell_type": "code",
      "execution_count": null,
      "metadata": {
        "id": "Mj2svASYHtwz"
      },
      "outputs": [],
      "source": [
        "def f(x):\n",
        "  return (x-1)**2\n",
        "\n",
        "\n",
        "def gss(f, xl, xu, threshold):\n",
        "  if xl >= xu:\n",
        "    raise Exception(\"nilai xl tidak boleh lebih dari atau sama dengan xu\")\n",
        "\n",
        "  iter_count = 0\n",
        "  xl_list = [xl]\n",
        "  xu_list = [xu]\n",
        "  d_list = []\n",
        "\n",
        "  while (True):\n",
        "    th = xu-xl\n",
        "    \n",
        "    d = 0.61803 * (xu-xl)\n",
        "    d_list.append(d)\n",
        "\n",
        "    x1 = xl + d\n",
        "    x2 = xu - d\n",
        "\n",
        "    fx1 = f(x1)\n",
        "    fx2 = f(x2)\n",
        "\n",
        "    print(\n",
        "        f'Iteration: {iter_count} | X_lower: {xl: .3f} | X_upper: {xu: .3f} \\\n",
        "        | d: {d: .3f} | X1: {x1: .3f} | X2: {x2: .3f} | fx1: {fx1: .3f} \\\n",
        "        | fx2: {fx2: .3f} | xu-xl: {th: .3f}'\n",
        "    )\n",
        "    iter_count+=1\n",
        "\n",
        "    xl = x2 if fx1 < fx2 else xl\n",
        "    xu = x1 if fx1 > fx2 else xu\n",
        "    print(f\"X_lower_new: {xl: .3f} | X_upper_new: {xu: .3f}\\n\")\n",
        "\n",
        "    xl_list.append(xl)\n",
        "    xu_list.append(xu)\n",
        "\n",
        "    if (xu-xl) < threshold:\n",
        "      break\n",
        "  return iter_count, xl, xu, xl_list, xu_list, d_list"
      ]
    },
    {
      "cell_type": "code",
      "source": [
        "threshold = 0.03\n",
        "\n",
        "iterations, xl, xu, xl_list, xu_list, d_list = gss(f, xl=-1, xu=2, threshold=threshold)"
      ],
      "metadata": {
        "id": "qONpZ9G2JwaR",
        "colab": {
          "base_uri": "https://localhost:8080/"
        },
        "outputId": "48edc538-9601-499a-deb2-f13300e075fb"
      },
      "execution_count": null,
      "outputs": [
        {
          "output_type": "stream",
          "name": "stdout",
          "text": [
            "Iteration: 0 | X_lower: -1.000 | X_upper:  2.000         | d:  1.854 | X1:  0.854 | X2:  0.146 | fx1:  0.021         | fx2:  0.729 | xu-xl:  3.000\n",
            "X_lower_new:  0.146 | X_upper_new:  2.000\n",
            "\n",
            "Iteration: 1 | X_lower:  0.146 | X_upper:  2.000         | d:  1.146 | X1:  1.292 | X2:  0.854 | fx1:  0.085         | fx2:  0.021 | xu-xl:  1.854\n",
            "X_lower_new:  0.146 | X_upper_new:  1.292\n",
            "\n",
            "Iteration: 2 | X_lower:  0.146 | X_upper:  1.292         | d:  0.708 | X1:  0.854 | X2:  0.584 | fx1:  0.021         | fx2:  0.173 | xu-xl:  1.146\n",
            "X_lower_new:  0.584 | X_upper_new:  1.292\n",
            "\n",
            "Iteration: 3 | X_lower:  0.584 | X_upper:  1.292         | d:  0.438 | X1:  1.021 | X2:  0.854 | fx1:  0.000         | fx2:  0.021 | xu-xl:  0.708\n",
            "X_lower_new:  0.854 | X_upper_new:  1.292\n",
            "\n",
            "Iteration: 4 | X_lower:  0.854 | X_upper:  1.292         | d:  0.271 | X1:  1.125 | X2:  1.021 | fx1:  0.016         | fx2:  0.000 | xu-xl:  0.438\n",
            "X_lower_new:  0.854 | X_upper_new:  1.125\n",
            "\n",
            "Iteration: 5 | X_lower:  0.854 | X_upper:  1.125         | d:  0.167 | X1:  1.021 | X2:  0.957 | fx1:  0.000         | fx2:  0.002 | xu-xl:  0.271\n",
            "X_lower_new:  0.957 | X_upper_new:  1.125\n",
            "\n",
            "Iteration: 6 | X_lower:  0.957 | X_upper:  1.125         | d:  0.103 | X1:  1.061 | X2:  1.021 | fx1:  0.004         | fx2:  0.000 | xu-xl:  0.167\n",
            "X_lower_new:  0.957 | X_upper_new:  1.061\n",
            "\n",
            "Iteration: 7 | X_lower:  0.957 | X_upper:  1.061         | d:  0.064 | X1:  1.021 | X2:  0.997 | fx1:  0.000         | fx2:  0.000 | xu-xl:  0.103\n",
            "X_lower_new:  0.957 | X_upper_new:  1.021\n",
            "\n",
            "Iteration: 8 | X_lower:  0.957 | X_upper:  1.021         | d:  0.039 | X1:  0.997 | X2:  0.982 | fx1:  0.000         | fx2:  0.000 | xu-xl:  0.064\n",
            "X_lower_new:  0.982 | X_upper_new:  1.021\n",
            "\n",
            "Iteration: 9 | X_lower:  0.982 | X_upper:  1.021         | d:  0.024 | X1:  1.006 | X2:  0.997 | fx1:  0.000         | fx2:  0.000 | xu-xl:  0.039\n",
            "X_lower_new:  0.982 | X_upper_new:  1.006\n",
            "\n"
          ]
        }
      ]
    },
    {
      "cell_type": "code",
      "source": [
        "threshold = 0.03\n",
        "\n",
        "iterations, xl, xu, xl_list, xu_list, d_list = gss(f, xl=-1, xu=2, threshold=threshold)"
      ],
      "metadata": {
        "colab": {
          "base_uri": "https://localhost:8080/"
        },
        "id": "LbBEt8r28viW",
        "outputId": "620a0ab7-622b-4f4c-cb1e-7037e6d8773e"
      },
      "execution_count": null,
      "outputs": [
        {
          "output_type": "stream",
          "name": "stdout",
          "text": [
            "Iteration: 0 | X_lower: -1.000 | X_upper:  2.000         | d:  1.854 | X1:  0.854 | X2:  0.146 | fx1:  0.021         | fx2:  0.729 | xu-xl:  3.000\n",
            "X_lower_new:  0.146 | X_upper_new:  2.000\n",
            "\n",
            "Iteration: 1 | X_lower:  0.146 | X_upper:  2.000         | d:  1.146 | X1:  1.292 | X2:  0.854 | fx1:  0.085         | fx2:  0.021 | xu-xl:  1.854\n",
            "X_lower_new:  0.146 | X_upper_new:  1.292\n",
            "\n",
            "Iteration: 2 | X_lower:  0.146 | X_upper:  1.292         | d:  0.708 | X1:  0.854 | X2:  0.584 | fx1:  0.021         | fx2:  0.173 | xu-xl:  1.146\n",
            "X_lower_new:  0.584 | X_upper_new:  1.292\n",
            "\n",
            "Iteration: 3 | X_lower:  0.584 | X_upper:  1.292         | d:  0.438 | X1:  1.021 | X2:  0.854 | fx1:  0.000         | fx2:  0.021 | xu-xl:  0.708\n",
            "X_lower_new:  0.854 | X_upper_new:  1.292\n",
            "\n",
            "Iteration: 4 | X_lower:  0.854 | X_upper:  1.292         | d:  0.271 | X1:  1.125 | X2:  1.021 | fx1:  0.016         | fx2:  0.000 | xu-xl:  0.438\n",
            "X_lower_new:  0.854 | X_upper_new:  1.125\n",
            "\n",
            "Iteration: 5 | X_lower:  0.854 | X_upper:  1.125         | d:  0.167 | X1:  1.021 | X2:  0.957 | fx1:  0.000         | fx2:  0.002 | xu-xl:  0.271\n",
            "X_lower_new:  0.957 | X_upper_new:  1.125\n",
            "\n",
            "Iteration: 6 | X_lower:  0.957 | X_upper:  1.125         | d:  0.103 | X1:  1.061 | X2:  1.021 | fx1:  0.004         | fx2:  0.000 | xu-xl:  0.167\n",
            "X_lower_new:  0.957 | X_upper_new:  1.061\n",
            "\n",
            "Iteration: 7 | X_lower:  0.957 | X_upper:  1.061         | d:  0.064 | X1:  1.021 | X2:  0.997 | fx1:  0.000         | fx2:  0.000 | xu-xl:  0.103\n",
            "X_lower_new:  0.957 | X_upper_new:  1.021\n",
            "\n",
            "Iteration: 8 | X_lower:  0.957 | X_upper:  1.021         | d:  0.039 | X1:  0.997 | X2:  0.982 | fx1:  0.000         | fx2:  0.000 | xu-xl:  0.064\n",
            "X_lower_new:  0.982 | X_upper_new:  1.021\n",
            "\n",
            "Iteration: 9 | X_lower:  0.982 | X_upper:  1.021         | d:  0.024 | X1:  1.006 | X2:  0.997 | fx1:  0.000         | fx2:  0.000 | xu-xl:  0.039\n",
            "X_lower_new:  0.982 | X_upper_new:  1.006\n",
            "\n"
          ]
        }
      ]
    },
    {
      "cell_type": "code",
      "source": [],
      "metadata": {
        "id": "dg0UgLwVw5YR"
      },
      "execution_count": null,
      "outputs": []
    }
  ]
}